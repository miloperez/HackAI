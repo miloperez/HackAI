{
 "cells": [
  {
   "cell_type": "code",
   "execution_count": 68,
   "id": "initial_id",
   "metadata": {
    "collapsed": true,
    "ExecuteTime": {
     "end_time": "2024-04-25T06:20:56.305738400Z",
     "start_time": "2024-04-25T06:20:56.289982100Z"
    }
   },
   "outputs": [],
   "source": [
    "import pandas as pd\n",
    "from sklearn.cluster import AgglomerativeClustering\n",
    "import numpy as np\n",
    "from propios import KNN, getCluster, getDataById"
   ]
  },
  {
   "cell_type": "code",
   "execution_count": 69,
   "outputs": [
    {
     "name": "stdout",
     "output_type": "stream",
     "text": [
      "                                                1  \\\n",
      "0            INGENIERÍAS Y DESARROLLO TECNOLÓGICO   \n",
      "1      FÍSICO-MATEMÁTICAS Y CIENCIAS DE LA TIERRA   \n",
      "2                               CIENCIAS SOCIALES   \n",
      "3            INGENIERÍAS Y DESARROLLO TECNOLÓGICO   \n",
      "4      FÍSICO-MATEMÁTICAS Y CIENCIAS DE LA TIERRA   \n",
      "...                                           ...   \n",
      "41279                           CIENCIAS SOCIALES   \n",
      "41280                           CIENCIAS SOCIALES   \n",
      "41281        INGENIERÍAS Y DESARROLLO TECNOLÓGICO   \n",
      "41282                          BIOLOGÍA Y QUÍMICA   \n",
      "41283             MEDICINA Y CIENCIAS DE LA SALUD   \n",
      "\n",
      "                                  2  \\\n",
      "0             INGENIERÍA ELÉCTRICA    \n",
      "1                     FÍSICA MÉDICA   \n",
      "2                       ECONOMETRÍA   \n",
      "3             INGENIERÍA ENERGÉTICA   \n",
      "4                    FÍSICA TEÓRICA   \n",
      "...                             ...   \n",
      "41279  CIENCIAS JURÍDICAS Y DERECHO   \n",
      "41280    SIN INFORMACIÓN DISPONIBLE   \n",
      "41281                    FERTILIDAD   \n",
      "41282        LINGÜÍSTICA SINCRÓNICA   \n",
      "41283    SIN INFORMACIÓN DISPONIBLE   \n",
      "\n",
      "                                                       3  \n",
      "0                                  INGENIERÍA ELÉCTRICA   \n",
      "1      FÍSICA EN APLICACIONES MÉDICAS DE RADIACIÓN NO...  \n",
      "2                         SERIES CRONOLÓGICAS ECONÓMICAS  \n",
      "3                                                  OTRAS  \n",
      "4                                                  OTRAS  \n",
      "...                                                  ...  \n",
      "41279                 ORGANIZACIÓN INDUSTRIAL Y POLÍTICA  \n",
      "41280                         SIN INFORMACIÓN DISPONIBLE  \n",
      "41281                         SIN INFORMACIÓN DISPONIBLE  \n",
      "41282                         SIN INFORMACIÓN DISPONIBLE  \n",
      "41283                         SIN INFORMACIÓN DISPONIBLE  \n",
      "\n",
      "[41284 rows x 3 columns]\n"
     ]
    }
   ],
   "source": [
    "file = 'DATASET SNI SH'\n",
    "carac_relevantes = [1,2,3]\n",
    "\n",
    "datos = pd.read_csv(file+\".csv\", header=None)\n",
    "\n",
    "data = datos[carac_relevantes]\n",
    "print(data)"
   ],
   "metadata": {
    "collapsed": false,
    "ExecuteTime": {
     "end_time": "2024-04-25T06:20:58.168923600Z",
     "start_time": "2024-04-25T06:20:58.104137300Z"
    }
   },
   "id": "efe376b0555caf94"
  },
  {
   "cell_type": "markdown",
   "source": [
    "### ONE HOT ENCODER"
   ],
   "metadata": {
    "collapsed": false
   },
   "id": "5834eeb36224fbee"
  },
  {
   "cell_type": "code",
   "execution_count": 3,
   "outputs": [],
   "source": [
    "df = pd.get_dummies(data, columns=carac_relevantes)"
   ],
   "metadata": {
    "collapsed": false,
    "ExecuteTime": {
     "end_time": "2024-04-25T02:11:20.021793300Z",
     "start_time": "2024-04-25T02:11:19.887740300Z"
    }
   },
   "id": "c2f144e7ed91a019"
  },
  {
   "cell_type": "markdown",
   "source": [
    "### Entrenar modelo"
   ],
   "metadata": {
    "collapsed": false
   },
   "id": "48fe593adba6f5b"
  },
  {
   "cell_type": "code",
   "execution_count": null,
   "outputs": [],
   "source": [
    "# Crea el objeto Agglomerative Clustering\n",
    "model = AgglomerativeClustering(n_clusters=150)\n",
    "# Entrenar el modelo # tarda como 30 min # no correr\n",
    "clusters = model.fit_predict(df)"
   ],
   "metadata": {
    "collapsed": false,
    "ExecuteTime": {
     "start_time": "2024-04-25T02:11:25.667278100Z"
    }
   },
   "id": "d915177aa548012e"
  },
  {
   "cell_type": "markdown",
   "source": [
    "### Guardar clústers"
   ],
   "metadata": {
    "collapsed": false
   },
   "id": "cebe8c0ea31035b3"
  },
  {
   "cell_type": "code",
   "execution_count": null,
   "outputs": [],
   "source": [
    "resultado = pd.concat([pd.DataFrame(datos), pd.DataFrame(clusters)], axis=1)\n",
    "\n",
    "resultado.to_csv(file + \"_res.csv\", index=False, header=False, encoding='utf-8-sig')"
   ],
   "metadata": {
    "collapsed": false,
    "ExecuteTime": {
     "end_time": "2024-04-25T00:58:04.090767100Z",
     "start_time": "2024-04-25T00:58:04.090767100Z"
    }
   },
   "id": "6513c0db78d1b927"
  },
  {
   "cell_type": "markdown",
   "source": [
    "### Guardar modelo"
   ],
   "metadata": {
    "collapsed": false
   },
   "id": "c00b759d5d65534b"
  },
  {
   "cell_type": "code",
   "execution_count": null,
   "outputs": [],
   "source": [
    "# import joblib\n",
    "\n",
    "# Guardar el modelo en un archivo usando joblib\n",
    "# joblib.dump(model, 'modelo_ac.pkl')"
   ],
   "metadata": {
    "collapsed": false,
    "ExecuteTime": {
     "start_time": "2024-04-25T00:58:04.090767100Z"
    }
   },
   "id": "b816866d758e8d0d"
  },
  {
   "cell_type": "markdown",
   "source": [
    "### Carga de datos"
   ],
   "metadata": {
    "collapsed": false
   },
   "id": "44001f12fed0964e"
  },
  {
   "cell_type": "code",
   "execution_count": 73,
   "outputs": [],
   "source": [
    "# Carga de datos con la información generada de los clusters\n",
    "file = 'DatasetInvest'\n",
    "\n",
    "datos = np.array(pd.read_csv(file+\".csv\", header=None))\n",
    "\n",
    "# Columnas con características\n",
    "datos = datos[:,0:11]\n",
    "# Características para clasificación\n",
    "X = datos[:,4:7]\n",
    "# Etiquetas\n",
    "Y = datos[:,10]\n",
    "# Ids de los usuarios\n",
    "X_id = np.array(datos[:,0])"
   ],
   "metadata": {
    "collapsed": false,
    "ExecuteTime": {
     "start_time": "2024-04-25T06:27:44.131693400Z"
    }
   },
   "id": "a98eaf8ea4299aa8"
  },
  {
   "cell_type": "code",
   "execution_count": null,
   "outputs": [],
   "source": [
    "def recom(vector):\n",
    "    knn = KNN()\n",
    "    knn.entrenar(X, Y, X_id)\n",
    "    \n",
    "    Y_res, rec = knn.predecir(vector)\n",
    "    \n",
    "    return getDataById(datos, 0, rec), Y_res"
   ],
   "metadata": {
    "collapsed": false
   },
   "id": "1f4ecca87985b9b7"
  },
  {
   "cell_type": "markdown",
   "source": [
    "### Principales recomendaciones"
   ],
   "metadata": {
    "collapsed": false
   },
   "id": "849928332496a5e2"
  },
  {
   "cell_type": "code",
   "execution_count": null,
   "outputs": [],
   "source": [
    "# Dato a clasificar\n",
    "X_test = ([\"CIENCIAS SOCIALES\",\t\"CIENCIAS POLÍTICAS\",\t\"OTRAS\", ])\n",
    "\n",
    "# Uso de un algoritmo de clasificación para hacer las recomendaciones\n",
    "recomendaciones, Y_res = recom(X_test)\n",
    "print(\"Dato de entrada\")\n",
    "print(X_test)\n",
    "print(\"Recomendaciones\")\n",
    "print(recomendaciones)"
   ],
   "metadata": {
    "collapsed": false
   },
   "id": "e3c30537482939df"
  },
  {
   "cell_type": "markdown",
   "source": [
    "### Acceder a mas recomendaciones\n",
    "\n",
    "A través del cluster al que se pertenece se puede otorgar un catálogo completo de recomendaciones afines"
   ],
   "metadata": {
    "collapsed": false
   },
   "id": "481d23a83f37edcf"
  },
  {
   "cell_type": "code",
   "execution_count": 72,
   "outputs": [
    {
     "name": "stdout",
     "output_type": "stream",
     "text": [
      "Catalogo completo de recomendaciones afines\n",
      "[[456762 'DR.' 'KAIRE DE FRANCISCO, JOSE EDUARDO' ... 'SIN INSTITUCIÓN'\n",
      "  'SIN INSTITUCIÓN' 58]\n",
      " [13269 'DR.' 'CANSINO ORTIZ, CESAR RICARDO' ...\n",
      "  'SIN DEPENDENCIA DE ADSCRIPCIÓN' 'PUEBLA' 58]\n",
      " [210026 'DR.' 'MORENO VELADOR, OCTAVIO HUMBERTO' ...\n",
      "  'SIN DEPENDENCIA DE ADSCRIPCIÓN' 'PUEBLA' 58]\n",
      " ...\n",
      " [203613 'DRA.' 'ARANCIBIA GUTIERREZ, ELIANA ALEJANDRA' ...\n",
      "  'COORDINACION DE HUMANIDADES' 'YUCATÁN' 58]\n",
      " [38208 'DRA.' 'DE SIERRA NEVES, MARIA TERESA' ...\n",
      "  'UNIVERSIDAD PEDAGOGICA NACIONAL 092 UNIDAD AJUSCO' 'CIUDAD DE MÉXICO'\n",
      "  58]\n",
      " [6707 'DR.' 'REYNOSO ANGULO VICTOR MANUEL' ...\n",
      "  'ESCUELA DE CIENCIAS SOCIALES' 'PUEBLA' 58]]\n"
     ]
    }
   ],
   "source": [
    "cluster = getCluster(datos, 10, Y_res)\n",
    "\n",
    "print(\"Catalogo completo de recomendaciones afines\")\n",
    "print(cluster)"
   ],
   "metadata": {
    "collapsed": false,
    "ExecuteTime": {
     "end_time": "2024-04-25T06:21:59.721835500Z",
     "start_time": "2024-04-25T06:21:59.705991700Z"
    }
   },
   "id": "91599bc9a46ae754"
  }
 ],
 "metadata": {
  "kernelspec": {
   "display_name": "Python 3",
   "language": "python",
   "name": "python3"
  },
  "language_info": {
   "codemirror_mode": {
    "name": "ipython",
    "version": 2
   },
   "file_extension": ".py",
   "mimetype": "text/x-python",
   "name": "python",
   "nbconvert_exporter": "python",
   "pygments_lexer": "ipython2",
   "version": "2.7.6"
  }
 },
 "nbformat": 4,
 "nbformat_minor": 5
}
